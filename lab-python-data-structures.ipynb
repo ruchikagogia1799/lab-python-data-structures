{
 "cells": [
  {
   "cell_type": "markdown",
   "metadata": {
    "tags": []
   },
   "source": [
    "# Lab | Data Structures "
   ]
  },
  {
   "cell_type": "markdown",
   "metadata": {},
   "source": [
    "## Exercise: Managing Customer Orders\n",
    "\n",
    "As part of a business venture, you are starting an online store that sells various products. To ensure smooth operations, you need to develop a program that manages customer orders and inventory.\n",
    "\n",
    "Follow the steps below to complete the exercise:\n",
    "\n",
    "1. Define a list called `products` that contains the following items: \"t-shirt\", \"mug\", \"hat\", \"book\", \"keychain\".\n",
    "\n",
    "2. Create an empty dictionary called `inventory`.\n",
    "\n",
    "3. Ask the user to input the quantity of each product available in the inventory. Use the product names from the `products` list as keys in the `inventory` dictionary and assign the respective quantities as values.\n",
    "\n",
    "4. Create an empty set called `customer_orders`.\n",
    "\n",
    "5. Ask the user to input the name of three products that a customer wants to order (from those in the products list, meaning three products out of \"t-shirt\", \"mug\", \"hat\", \"book\" or \"keychain\". Add each product name to the `customer_orders` set.\n",
    "\n",
    "6. Print the products in the `customer_orders` set.\n",
    "\n",
    "7. Calculate the following order statistics:\n",
    "   - Total Products Ordered: The total number of products in the `customer_orders` set.\n",
    "   - Percentage of Products Ordered: The percentage of products ordered compared to the total available products.\n",
    "   \n",
    "   Store these statistics in a tuple called `order_status`.\n",
    "\n",
    "8. Print the order statistics using the following format:\n",
    "   ```\n",
    "   Order Statistics:\n",
    "   Total Products Ordered: <total_products_ordered>\n",
    "   Percentage of Products Ordered: <percentage_ordered>% \n",
    "   ```\n",
    "\n",
    "9. Update the inventory by subtracting 1 from the quantity of each product. Modify the `inventory` dictionary accordingly.\n",
    "\n",
    "10. Print the updated inventory, displaying the quantity of each product on separate lines.\n",
    "\n",
    "Solve the exercise by implementing the steps using the Python concepts of lists, dictionaries, sets, and basic input/output operations. "
   ]
  },
  {
   "cell_type": "code",
   "execution_count": null,
   "metadata": {},
   "outputs": [],
   "source": [
    "#1.\n",
    "products = [\"t-shirt\", \"mug\", \"hat\", \"book\", \"keychain\"]\n",
    "\n",
    "\n",
    "#2.\n",
    "inventory = {}\n",
    "\n",
    "#3.\n",
    "inventory[\"t-shirt\"] = int(input(\"Select the quantity available for t-shirt\"))\n",
    "inventory[\"mug\"] = int(input(\"Select the quantity available for mug\"))\n",
    "inventory[\"hat\"] = int(input(\"Select the quantity available for hat\"))\n",
    "inventory[\"book\"] = int(input(\"Select the quantity available for book\"))\n",
    "inventory[\"keychain\"] = int(input(\"Select the quantity available for keychain\"))\n",
    "\n",
    "customer_orders = set()\n",
    "\n",
    "product_name = input(\"Enter the name of a product that a customer wants: \")\n",
    "customer_orders.add(product_name)\n",
    "\n",
    "product_name = input(\"Enter the name of a product that a customer wants: \")\n",
    "customer_orders.add(product_name)\n",
    "\n",
    "product_name = input(\"Enter the name of a product that a customer wants: \")\n",
    "customer_orders.add(product_name)\n",
    "\n",
    "#6.\n",
    "print(\"Products in customer orders: \", customer_orders)\n",
    "\n",
    "#7.\n",
    "total_products_ordered = len(customer_orders)\n",
    "percentage_ordered = (total_products_ordered/len(products))* 100\n",
    "\n",
    "order_stats = (total_products_ordered, percentage_ordered)\n",
    "\n",
    "#8.\n",
    "\n",
    "print(\"Order Statistics: \")\n",
    "print(\"Total products ordered: \", order_stats[0])\n",
    "print(\"Percentage of Unique products ordered : \", order_stats[1])\n",
    "\n",
    "\n",
    "#9./10. \n",
    "product_one = list(customer_orders)[0]\n",
    "inventory[product_one] -= 1\n",
    "\n",
    "\n",
    "product_two = list(customer_orders)[1]\n",
    "inventory[product_two] -= 1\n",
    "\n",
    "\n",
    "product_three = list(customer_orders)[2]\n",
    "inventory[product_three] -= 1\n",
    "\n",
    "inventory\n"
   ]
  }
 ],
 "metadata": {
  "kernelspec": {
   "display_name": "base",
   "language": "python",
   "name": "python3"
  },
  "language_info": {
   "codemirror_mode": {
    "name": "ipython",
    "version": 3
   },
   "file_extension": ".py",
   "mimetype": "text/x-python",
   "name": "python",
   "nbconvert_exporter": "python",
   "pygments_lexer": "ipython3",
   "version": "3.12.7"
  }
 },
 "nbformat": 4,
 "nbformat_minor": 4
}
